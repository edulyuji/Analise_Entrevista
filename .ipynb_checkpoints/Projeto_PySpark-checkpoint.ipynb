{
 "cells": [
  {
   "cell_type": "code",
   "execution_count": 13,
   "id": "1c9ee890-5f28-439a-b758-c70f7e62b6fc",
   "metadata": {},
   "outputs": [],
   "source": [
    "import os\n",
    "import sys\n",
    "import findspark\n",
    "findspark.init()\n",
    "import pyspark\n",
    "\n",
    "os.environ['PYSPARK_PYTHON'] = sys.executable\n",
    "os.environ['PYSPARK_DRIVER_PYTHON'] = sys.executable\n",
    "\n",
    "from pyspark.sql import SparkSession\n",
    "from pyspark.sql.functions import *\n",
    "from pyspark.sql.types import *\n",
    "from pyspark.sql.window import Window"
   ]
  },
  {
   "cell_type": "code",
   "execution_count": 14,
   "id": "0afcc20f-8253-48ff-bfde-d6763fcd9c1a",
   "metadata": {},
   "outputs": [],
   "source": [
    "spark = (\n",
    "    SparkSession.builder\n",
    "    .master('local')\n",
    "    .appName('Projeto_PySpark')\n",
    "    .getOrCreate()\n",
    ")"
   ]
  },
  {
   "cell_type": "code",
   "execution_count": 15,
   "id": "ceca5a2f-33da-45de-87d8-9974b681a483",
   "metadata": {},
   "outputs": [],
   "source": [
    "# Importar os arquivos .csv\n",
    "Entrevistados = spark.read.csv('Dados/Entrevistados.csv', header=True, inferSchema=True, sep = ';')\n",
    "EntrevistasRealizadas =  spark.read.csv('Dados/EntrevistasRealizadas.csv', header=True, inferSchema=True,sep = ';' )\n",
    "Pesquisa =  spark.read.csv('Dados/Pesquisa.csv', header=True, inferSchema=True,sep = ';')\n",
    "Respostas =  spark.read.csv('Dados/Respostas.csv', header=True, inferSchema=True,sep = ';')\n",
    "Perguntas =  spark.read.csv('Dados/Perguntas.csv', header=True, inferSchema=True,sep = ';')"
   ]
  },
  {
   "cell_type": "code",
   "execution_count": 16,
   "id": "ac0ea402-f2fd-4cba-8c43-3a78202160d1",
   "metadata": {},
   "outputs": [
    {
     "name": "stdout",
     "output_type": "stream",
     "text": [
      "+--------------------+---------------+------+----+----------+\n",
      "|        PainelistaID|         Cidade|Estado|Sexo|Nascimento|\n",
      "+--------------------+---------------+------+----+----------+\n",
      "|44C12860-704A-4BF...|     Uberlândia|    MG|   M|   09/1994|\n",
      "|46A9177F-BFC7-44A...|        Itapeva|    SP|   F|   05/1999|\n",
      "|1E69D5A1-91BC-496...|Taboão da Serra|    SP|   F|   06/2001|\n",
      "|E1BCA661-F67D-42F...|Duque de Caxias|    RJ|   F|   12/2004|\n",
      "|D04CECFD-F857-43A...|          Belém|    PA|   F|   10/1989|\n",
      "+--------------------+---------------+------+----+----------+\n",
      "only showing top 5 rows\n",
      "\n",
      "+--------------------+--------------------+----------------+----------+\n",
      "|          PesquisaID|        PainelistaID|            Data|CodCliente|\n",
      "+--------------------+--------------------+----------------+----------+\n",
      "|31821770-8E76-434...|C4B1D30D-1559-4B3...|15/03/2022 13:27|  20242080|\n",
      "|31821770-8E76-434...|43DE7420-5CD1-4AB...|05/04/2022 10:56|  20363265|\n",
      "|D8811E98-FE36-457...|18DA0725-F1EE-425...|10/07/2022 01:41|  24378343|\n",
      "|31821770-8E76-434...|5B5B19C7-B076-46C...|12/03/2022 09:52|  20226206|\n",
      "|D8811E98-FE36-457...|5B5B19C7-B076-46C...|12/03/2022 09:51|  23486927|\n",
      "+--------------------+--------------------+----------------+----------+\n",
      "only showing top 5 rows\n",
      "\n",
      "+--------------------+-------+------+\n",
      "|          PesquisaID|   Nome|CodJob|\n",
      "+--------------------+-------+------+\n",
      "|31821770-8E76-434...|98DZK9M|  4037|\n",
      "|D8811E98-FE36-457...|F60KRQX|  3794|\n",
      "+--------------------+-------+------+\n",
      "\n",
      "+----------+--------+--------------------+\n",
      "|CodQuestao|Resposta|        DescOpcaoPOR|\n",
      "+----------+--------+--------------------+\n",
      "|     57625|       1|        Solteira (o)|\n",
      "|     57625|       2|Casada (o) / Mora...|\n",
      "|     57625|       3|           Viúva (o)|\n",
      "|     57625|       4|Divorciada (o) / ...|\n",
      "|     57625|      97|              Outros|\n",
      "+----------+--------+--------------------+\n",
      "only showing top 5 rows\n",
      "\n",
      "+----------+------+----------+--------------------+--------+\n",
      "|CodCliente|CodJob|CodQuestao|      DescQuestaoPOR|Resposta|\n",
      "+----------+------+----------+--------------------+--------+\n",
      "|  17529748|  4037|    122498|      Você tem PIX? |       3|\n",
      "|  17529787|  4037|    122498|      Você tem PIX? |       1|\n",
      "|  17529787|  4037|    122499|Para quais finali...|     1|2|\n",
      "|  17662142|  4037|    122498|      Você tem PIX? |       1|\n",
      "|  17662142|  4037|    122499|Para quais finali...|   2|3|4|\n",
      "+----------+------+----------+--------------------+--------+\n",
      "only showing top 5 rows\n",
      "\n"
     ]
    }
   ],
   "source": [
    "Entrevistados.show(5)\n",
    "EntrevistasRealizadas.show(5)\n",
    "Pesquisa.show(5)\n",
    "Respostas.show(5)\n",
    "Perguntas.show(5)"
   ]
  },
  {
   "cell_type": "code",
   "execution_count": 17,
   "id": "69a9663a-690e-4bf3-983d-b3ead2e5b11c",
   "metadata": {},
   "outputs": [
    {
     "name": "stdout",
     "output_type": "stream",
     "text": [
      "+----------+--------+----------+------+--------------------+--------------------+------------+------+----+----------+----------------+-------+--------------------+------------+\n",
      "|CodQuestao|Resposta|CodCliente|CodJob|          PesquisaID|        PainelistaID|      Cidade|Estado|Sexo|Nascimento|            Data|   Nome|      DescQuestaoPOR|DescOpcaoPOR|\n",
      "+----------+--------+----------+------+--------------------+--------------------+------------+------+----+----------+----------------+-------+--------------------+------------+\n",
      "|    122499| 1|2|3|4|  20242080|  4037|31821770-8E76-434...|C4B1D30D-1559-4B3...|      Cuiabá|    MT|   F|   10/2001|15/03/2022 13:27|98DZK9M|Para quais finali...|        NULL|\n",
      "|    122498|       1|  20242080|  4037|31821770-8E76-434...|C4B1D30D-1559-4B3...|      Cuiabá|    MT|   F|   10/2001|15/03/2022 13:27|98DZK9M|      Você tem PIX? |        Sim |\n",
      "|    122499|     1|2|  20363265|  4037|31821770-8E76-434...|43DE7420-5CD1-4AB...|       Belém|    PA|   F|   03/2002|05/04/2022 10:56|98DZK9M|Para quais finali...|        NULL|\n",
      "|    122498|       1|  20363265|  4037|31821770-8E76-434...|43DE7420-5CD1-4AB...|       Belém|    PA|   F|   03/2002|05/04/2022 10:56|98DZK9M|      Você tem PIX? |        Sim |\n",
      "|     57792|       1|  24378343|  3794|D8811E98-FE36-457...|18DA0725-F1EE-425...|Belford Roxo|    RJ|   F|   08/1994|10/07/2022 01:41|F60KRQX|E em qual dessas ...|  Até 720,00|\n",
      "+----------+--------+----------+------+--------------------+--------------------+------------+------+----+----------+----------------+-------+--------------------+------------+\n",
      "only showing top 5 rows\n",
      "\n"
     ]
    },
    {
     "data": {
      "text/plain": [
       "4382"
      ]
     },
     "execution_count": 17,
     "metadata": {},
     "output_type": "execute_result"
    }
   ],
   "source": [
    "# 1) Faça a união dos 5 arquivos de dados e exporte uma única tabela contendo todas as respostas obtidas através dos 600 entrevistados nas 2 pesquisas. \n",
    "\n",
    "Dataframe_completo = Entrevistados.join(EntrevistasRealizadas, on=\"PainelistaID\", how=\"right\")\n",
    "Dataframe_completo = Dataframe_completo.join(Pesquisa, on=\"PesquisaID\", how=\"left\")\n",
    "Dataframe_completo = Dataframe_completo.join(Perguntas, on=['CodCliente', 'CodJob'], how=\"inner\")\n",
    "Dataframe_completo = Dataframe_completo.join(Respostas, on=['CodQuestao','Resposta'], how=\"left\")\n",
    "Dataframe_completo.show(5)\n",
    "Dataframe_completo.count()"
   ]
  },
  {
   "cell_type": "code",
   "execution_count": null,
   "id": "38f65a6e",
   "metadata": {},
   "outputs": [],
   "source": [
    "+----------+--------+----------+------+--------------------+--------------------+------------+------+----+----------+----------------+-------+--------------------+------------+\n",
    "|CodQuestao|Resposta|CodCliente|CodJob|          PesquisaID|        PainelistaID|      Cidade|Estado|Sexo|Nascimento|            Data|   Nome|      DescQuestaoPOR|DescOpcaoPOR|\n",
    "+----------+--------+----------+------+--------------------+--------------------+------------+------+----+----------+----------------+-------+--------------------+------------+\n",
    "|    122499| 1|2|3|4|  20242080|  4037|31821770-8E76-434...|C4B1D30D-1559-4B3...|      Cuiabá|    MT|   F|   10/2001|15/03/2022 13:27|98DZK9M|Para quais finali...|        NULL|\n",
    "|    122498|       1|  20242080|  4037|31821770-8E76-434...|C4B1D30D-1559-4B3...|      Cuiabá|    MT|   F|   10/2001|15/03/2022 13:27|98DZK9M|      Você tem PIX? |        Sim |\n",
    "|    122499|     1|2|  20363265|  4037|31821770-8E76-434...|43DE7420-5CD1-4AB...|       Belém|    PA|   F|   03/2002|05/04/2022 10:56|98DZK9M|Para quais finali...|        NULL|\n",
    "|    122498|       1|  20363265|  4037|31821770-8E76-434...|43DE7420-5CD1-4AB...|       Belém|    PA|   F|   03/2002|05/04/2022 10:56|98DZK9M|      Você tem PIX? |        Sim |\n",
    "|     57792|       1|  24378343|  3794|D8811E98-FE36-457...|18DA0725-F1EE-425...|Belford Roxo|    RJ|   F|   08/1994|10/07/2022 01:41|F60KRQX|E em qual dessas ...|  Até 720,00|\n",
    "+----------+--------+----------+------+--------------------+--------------------+------------+------+----+----------+----------------+-------+--------------------+------------+"
   ]
  },
  {
   "cell_type": "code",
   "execution_count": 18,
   "id": "6c4f349d-9dcb-4687-a380-2b872dd52f27",
   "metadata": {},
   "outputs": [
    {
     "name": "stdout",
     "output_type": "stream",
     "text": [
      "Qual é a média e desvio padrão de idade dos 600 entrevistados?\n",
      "Desvio Padrão:  9.44\n",
      "Média:  29.04\n"
     ]
    }
   ],
   "source": [
    "# A) Qual é a média e desvio padrão de idade dos 600 entrevistados?\n",
    "\n",
    "# Seleciona a coluna de data de nascimento do DataFrame 'Entrevistados'\n",
    "Pessoas_Entrevistadas1 = Entrevistados.select(\"nascimento\")\n",
    "\n",
    "# Converte a coluna de data de nascimento para o formato de data\n",
    "Pessoas_Entrevistadas1 = Pessoas_Entrevistadas1.withColumn(\"nascimento\", to_date(Pessoas_Entrevistadas1[\"nascimento\"], \"MM/yyyy\"))\n",
    "\n",
    "# Calcula a diferença em meses entre a data atual e a data de nascimento\n",
    "meses_de_diferenca1 = months_between(current_date(), Pessoas_Entrevistadas1[\"nascimento\"])\n",
    "\n",
    "# Calcula a idade arredondando para baixo o resultado da divisão por 12 (meses para anos)\n",
    "Pessoas_Entrevistadas1 = Pessoas_Entrevistadas1.withColumn(\"idade\", floor(meses_de_diferenca1 / 12))\n",
    "\n",
    "# Calcula a média arredondada das idades dos Entrevistados\n",
    "media_arredondada1 = Pessoas_Entrevistadas1.agg(expr('round(avg(idade), 2)')).collect()[0][0]\n",
    "\n",
    "# Calcula o desvio padrão arredondado das idades dos Entrevistados\n",
    "desvio_padrao1 = Pessoas_Entrevistadas1.select(round(stddev('idade'),2)).collect()[0][0]\n",
    "\n",
    "# Exibe o resultado\n",
    "print(\"Qual é a média e desvio padrão de idade dos 600 entrevistados?\")\n",
    "print(\"Desvio Padrão: \", desvio_padrao1)\n",
    "print(\"Média: \", media_arredondada1)"
   ]
  },
  {
   "cell_type": "code",
   "execution_count": 19,
   "id": "c28a1f3c-ae33-44f9-a4f8-053f1d019959",
   "metadata": {},
   "outputs": [
    {
     "name": "stdout",
     "output_type": "stream",
     "text": [
      "Quantos % de quem possui filho(s) são do sexo Feminino?\n",
      "A porcentagem é de: 65.57%\n"
     ]
    }
   ],
   "source": [
    "# B) Quantos % de quem possui filho(s) são do sexo Feminino?\n",
    "\n",
    "# Seleciona as colunas 'PainelistaID' e 'Sexo' do DataFrame 'Entrevistados'\n",
    "Pessoas_entrevistadas2 = Entrevistados.select('PainelistaID','Sexo')\n",
    "\n",
    "# Une o DataFrame 'Pessoas_entrevistadas2' com o DataFrame 'EntrevistasRealizadas' usando 'PainelistaID' como chave de junção\n",
    "Pessoas_entrevistadas2 = Pessoas_entrevistadas2.join(EntrevistasRealizadas, on=\"PainelistaID\", how=\"left\")\n",
    "\n",
    "# Filtra as respostas desejada\n",
    "Respostas_entrevista = Perguntas.filter(Perguntas[\"DescQuestaoPOR\"] == \"Você tem filhos?\")\n",
    "Respostas_entrevista = Respostas_entrevista.filter(Perguntas[\"Resposta\"] == \"2\")\n",
    "\n",
    "# Une o DataFrame 'Respostas_entrevista' com o DataFrame 'Pesquisa' usando 'CodJob' como chave de junção\n",
    "Respostas_entrevista = Respostas_entrevista.join(Pesquisa, on=['CodJob'], how=\"left\")\n",
    "\n",
    "# Junta os DataFrames 'Pessoas_entrevistadas2' e 'Respostas_entrevista' usando 'CodCliente' e 'PesquisaID' como chaves de junção\n",
    "Pessoas_entrevistadas2 = Pessoas_entrevistadas2.join(Respostas_entrevista, on=['CodCliente','PesquisaID'], how=\"left\")\n",
    "\n",
    "# Remove linhas com valores nulos\n",
    "Pessoas_entrevistadas2 = Pessoas_entrevistadas2.na.drop(how=\"any\")\n",
    "\n",
    "# Seleciona a coluna 'Sexo' do DataFrame 'Pessoas_entrevistadas2'\n",
    "Pessoas_entrevistadas2 = Pessoas_entrevistadas2.select('Sexo')\n",
    "\n",
    "# Calcula a porcentagem de pessoas do sexo Feminino que possuem filho(s)\n",
    "porcentagem_feminino_com_filhos = (Pessoas_entrevistadas2.filter(Pessoas_entrevistadas2[\"Sexo\"] == \"F\").count() * 100 / Pessoas_entrevistadas2.count())\n",
    "\n",
    "# Exibe o resultado\n",
    "print(\"Quantos % de quem possui filho(s) são do sexo Feminino?\")\n",
    "print(f\"A porcentagem é de: {porcentagem_feminino_com_filhos:.2f}%\")"
   ]
  },
  {
   "cell_type": "code",
   "execution_count": 20,
   "id": "480d9d75-ff7f-4e81-a8c1-88497531ed1d",
   "metadata": {},
   "outputs": [
    {
     "name": "stdout",
     "output_type": "stream",
     "text": [
      "Quantos % dos Entrevistados da região SUL possuem renda mensal até R$ 2.999?\n",
      "A porcentagem é de: 36.36%\n"
     ]
    }
   ],
   "source": [
    "# C) Quantos % dos Entrevistados da região SUL possuem renda mensal até R$ 2.999?\n",
    "\n",
    "# Filtra os painelistas da região Sul (SC, RS, PR)\n",
    "list_filter = ['SC', 'RS', 'PR']\n",
    "filtro = Entrevistados.filter(col(\"Estado\").isin(list_filter))\n",
    "\n",
    "# Junta o DataFrame filtrado com o DataFrame 'EntrevistasRealizadas'\n",
    "df_renda = filtro.join(EntrevistasRealizadas, on=['PainelistaID'], how=\"inner\")\n",
    "df_renda = df_renda.drop(\"Cidade\",\"Nascimento\",\"Data\")\n",
    "\n",
    "# Filtra as respostas de renda desejadas\n",
    "resp_filter = ['Até 720,00', 'R$ 721 a 1.100', 'R$ 1.101 a 1.999', 'R$ 2.000 a 2.999', 'R$ 3.000 a 3.999', 'R$ 4.000 a 4.999', 'R$ 5.000 a 6.999', 'R$ 7.000 a 9.999', 'R$ 10.000 a 14.999', 'R$ 15.000 a 20.000', 'Acima de 20.000']\n",
    "Respostas2 = Respostas.filter(col(\"DescOpcaoPOR\").isin(resp_filter))\n",
    "Respostas2 = Respostas2.join(Perguntas, on=['CodQuestao'], how=\"inner\")\n",
    "Respostas2 = Respostas2.join(Pesquisa, on=['CodJob'], how=\"inner\")\n",
    "\n",
    "# Junta o DataFrame final com as respostas de renda desejadas\n",
    "df_final = df_renda.join(Respostas2, on=['CodCliente'], how=\"inner\")\n",
    "\n",
    "# Filtra as respostas de renda até R$ 2.999\n",
    "respostas_desejadas = ['Até 720,00', 'R$ 721 a 1.100', 'R$ 1.101 a 1.999', 'R$ 2.000 a 2.999']\n",
    "calculo_final = (df_final.filter(col(\"DescOpcaoPOR\").isin(respostas_desejadas)).count() * 100 / df_final.count())\n",
    "\n",
    "# Exibe o resultado\n",
    "print(\"Quantos % dos Entrevistados da região SUL possuem renda mensal até R$ 2.999?\")\n",
    "print(f\"A porcentagem é de: {calculo_final:.2f}%\")"
   ]
  },
  {
   "cell_type": "code",
   "execution_count": 23,
   "id": "b048742a-7d4a-42fb-bec9-8f5ba2d8d1ec",
   "metadata": {},
   "outputs": [
    {
     "name": "stdout",
     "output_type": "stream",
     "text": [
      "Quantos % dos 600 entrevistados usam o Pix para cada uma das finalidades pesquisadas?\n",
      "+--------------------+--------+-----------+\n",
      "|        DescOpcaoPOR|Contagem|Porcentagem|\n",
      "+--------------------+--------+-----------+\n",
      "|Transferir $$ par...|     422|      25.35|\n",
      "|       Pagar contas |     380|      22.82|\n",
      "|Pagar compras em ...|     247|      14.83|\n",
      "|Pagar compras em ...|     234|      14.05|\n",
      "|Pagar compras em ...|     213|      12.79|\n",
      "|Pagar prestadores...|     151|       9.07|\n",
      "|Outros (Especificar)|      18|       1.08|\n",
      "+--------------------+--------+-----------+\n",
      "\n"
     ]
    }
   ],
   "source": [
    "# D) Quantos % dos 600 entrevistados usam o Pix para cada uma das finalidades pesquisadas?\n",
    "\n",
    "# Selecionar todas as colunas da tabela Entrevistados\n",
    "Pessoas4 = Entrevistados.select(\"*\")\n",
    "\n",
    "# Juntar a tabela Pessoas4 com a tabela EntrevistasRealizadas pela coluna 'PainelistaID'\n",
    "Pessoas4 = Pessoas4.join(EntrevistasRealizadas, on=['PainelistaID'], how=\"inner\")\n",
    "\n",
    "# Remover colunas desnecessárias\n",
    "Pessoas4 = Pessoas4.drop(\"Estado\",\"Sexo\",\"Nascimento\",\"Cidade\",\"Data\")\n",
    "\n",
    "# Renomear a coluna 'Resposta' da tabela Perguntas para 'Resposta_x' e juntar com a tabela Respostas\n",
    "Respostas4 = Perguntas.withColumnRenamed(\"Resposta\", \"Resposta_x\")\n",
    "Respostas4 = Respostas4.join(Respostas, on=['CodQuestao'], how=\"inner\")\n",
    "\n",
    "# Renomear a coluna 'Resposta' da tabela Respostas para 'Resposta_y'\n",
    "Respostas4 = Respostas4.withColumnRenamed(\"Resposta\", \"Resposta_y\")\n",
    "\n",
    "# Filtrar apenas as respostas relacionadas à pergunta sobre as finalidades do uso do PIX\n",
    "filtros4 = ['Para quais finalidades você usa o PIX? ']\n",
    "Respostas4 = Respostas4.filter(col(\"DescQuestaoPOR\").isin(filtros4))\n",
    "Respostas4 = Respostas4.join(Pesquisa, on=['CodJob'], how=\"inner\")\n",
    "\n",
    "# Inicializar uma lista para armazenar os índices\n",
    "valores4 = []\n",
    "\n",
    "# Usar o método `enumerate` para obter os índices das linhas\n",
    "for index, row in enumerate(Respostas4.rdd.collect()):\n",
    "    # Verificar se algum caractere de Resposta_y está presente em Resposta_x\n",
    "    if any(char in str(row['Resposta_y']) for char in str(row['Resposta_x'])):\n",
    "        valores4.append(index)\n",
    "\n",
    "# Filtrar as respostas com base nos índices encontrados\n",
    "Respostas4 = Respostas4.withColumn(\"id\", monotonically_increasing_id())\n",
    "Respostas4 = Respostas4.filter(col('id').isin(valores4)).drop('id')\n",
    "\n",
    "# Calcular a contagem de cada valor em DescOpcaoPOR\n",
    "contagem_total4 = Respostas4.groupBy('DescOpcaoPOR').agg(count('*').alias('Contagem'))\n",
    "\n",
    "# Calcular a frequência em porcentagem para cada valor\n",
    "Total4 = contagem_total4.selectExpr('sum(Contagem) as Total').collect()[0]['Total']\n",
    "Porcentagem4 = contagem_total4.withColumn('Porcentagem', round(col('Contagem') / Total4 * 100, 2))\n",
    "\n",
    "# Exibir os resultados\n",
    "print(\"Quantos % dos 600 entrevistados usam o Pix para cada uma das finalidades pesquisadas?\")\n",
    "Porcentagem4.orderBy(Porcentagem4[\"Porcentagem\"].desc()).show()"
   ]
  },
  {
   "cell_type": "code",
   "execution_count": 24,
   "id": "60f55bd9-dbe1-40ae-adf1-f79461037682",
   "metadata": {},
   "outputs": [
    {
     "name": "stdout",
     "output_type": "stream",
     "text": [
      "Quantos % dos Entrevistados que usam o Pix para [Transferir $$ para amigos e familiares] OU [Pagar compras em lojas online] são do sexo Masculino?\n",
      "A porcentagem é de: 26.87%\n"
     ]
    }
   ],
   "source": [
    "# E) Quantos % dos 600 entrevistados usam o Pix para cada uma das finalidades pesquisadas?Quantos % dos 600 entrevistados usam o Pix para cada uma das finalidades pesquisadas?\n",
    "\n",
    "# Seleciona as linhas da tabela Respostas\n",
    "Perguntas5 = Respostas.select(\"*\")\n",
    "\n",
    "# Seleciona as linhas da tabela Perguntas\n",
    "Respostas5 = Perguntas.select(\"*\")\n",
    "\n",
    "# Realiza a uniao das tabelas\n",
    "Pessoas_Entrevistadas5 = Entrevistados.join(EntrevistasRealizadas, on=\"PainelistaID\", how=\"right\")\n",
    "Pessoas_Entrevistadas5 = Pessoas_Entrevistadas5.join(Pesquisa, on=\"PesquisaID\", how=\"left\")\n",
    "\n",
    "# Filtra as finalidades do uso do pix de cada entrevistado\n",
    "Filtro4 =  ['Transferir $$ para amigos e familiares ', 'Pagar compras em lojas online ']\n",
    "Perguntas5 = Perguntas5.filter(col(\"DescOpcaoPOR\").isin(Filtro4))\n",
    "\n",
    "# Filtra as perguntas relacionadas ao uso do Pix\n",
    "Filtro4 = ['Para quais finalidades você usa o PIX? ']\n",
    "Respostas5 = Respostas5.filter(col(\"DescQuestaoPOR\").isin(Filtro4))\n",
    "\n",
    "# Realiza a uniao das tabelas\n",
    "Perguntas_Respostas5 = Perguntas5.join(Respostas5, on=['Resposta'], how=\"left\")\n",
    "Pessoas_Entrevistadas5 = Pessoas_Entrevistadas5.join(Perguntas_Respostas5, on=['CodCliente','CodJob'], how=\"right\")\n",
    "\n",
    "# Calcula a porcentagem de Painelistas do sexo Masculino que usam o Pix para as finalidades especificadas\n",
    "porcentagem_Masculino = (Pessoas_Entrevistadas5.filter(Pessoas_entrevistadas2[\"Sexo\"] == \"M\").count() * 100 / Pessoas_Entrevistadas5.count())\n",
    "\n",
    "# Imprime o resultado da porcentagem\n",
    "print(\"Quantos % dos Entrevistados que usam o Pix para [Transferir $$ para amigos e familiares] OU [Pagar compras em lojas online] são do sexo Masculino?\")\n",
    "print(f\"A porcentagem é de: {porcentagem_Masculino:.2f}%\")"
   ]
  }
 ],
 "metadata": {
  "kernelspec": {
   "display_name": "Python 3 (ipykernel)",
   "language": "python",
   "name": "python3"
  },
  "language_info": {
   "codemirror_mode": {
    "name": "ipython",
    "version": 3
   },
   "file_extension": ".py",
   "mimetype": "text/x-python",
   "name": "python",
   "nbconvert_exporter": "python",
   "pygments_lexer": "ipython3",
   "version": "3.11.7"
  }
 },
 "nbformat": 4,
 "nbformat_minor": 5
}
